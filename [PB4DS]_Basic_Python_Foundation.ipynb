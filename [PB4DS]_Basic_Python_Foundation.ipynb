{
  "nbformat": 4,
  "nbformat_minor": 0,
  "metadata": {
    "colab": {
      "provenance": [],
      "authorship_tag": "ABX9TyNeNfq0I+N3EYDQD7MSL/rl",
      "include_colab_link": true
    },
    "kernelspec": {
      "name": "python3",
      "display_name": "Python 3"
    },
    "language_info": {
      "name": "python"
    }
  },
  "cells": [
    {
      "cell_type": "markdown",
      "metadata": {
        "id": "view-in-github",
        "colab_type": "text"
      },
      "source": [
        "<a href=\"https://colab.research.google.com/github/ergonrizky26/Startup-Campus_Data-Science-Bootcamp/blob/main/%5BPB4DS%5D_Basic_Python_Foundation.ipynb\" target=\"_parent\"><img src=\"https://colab.research.google.com/assets/colab-badge.svg\" alt=\"Open In Colab\"/></a>"
      ]
    },
    {
      "cell_type": "markdown",
      "source": [
        "#2. Variable\n",
        "Fungsinya untuk menampung value"
      ],
      "metadata": {
        "id": "BolI0-8Jo3K6"
      }
    },
    {
      "cell_type": "code",
      "source": [
        "x = 100\n",
        "print(x)"
      ],
      "metadata": {
        "colab": {
          "base_uri": "https://localhost:8080/"
        },
        "id": "lP6nDnAap8g1",
        "outputId": "194d9cfb-d5f6-42a8-bbc8-66ed919452cd"
      },
      "execution_count": 1,
      "outputs": [
        {
          "output_type": "stream",
          "name": "stdout",
          "text": [
            "100\n"
          ]
        }
      ]
    },
    {
      "cell_type": "code",
      "source": [
        "x_string = 'belajar python'\n",
        "print(x_string)"
      ],
      "metadata": {
        "colab": {
          "base_uri": "https://localhost:8080/"
        },
        "id": "lcFSQELhqFLj",
        "outputId": "84ccab41-4cb5-4ee0-d684-8a6da4bb3121"
      },
      "execution_count": 2,
      "outputs": [
        {
          "output_type": "stream",
          "name": "stdout",
          "text": [
            "belajar python\n"
          ]
        }
      ]
    },
    {
      "cell_type": "code",
      "source": [
        "# Penulisan variabel tidak boleh terdapat spasi\n",
        "# Beberapa penulisan variable yang benar\n",
        "A_B = 200\n",
        "Data_Input = 300\n",
        "DataInput = 400\n",
        "datainput = 500"
      ],
      "metadata": {
        "id": "Unc6lXhRqWc4"
      },
      "execution_count": 4,
      "outputs": []
    },
    {
      "cell_type": "markdown",
      "source": [
        "#3. Data Types\n",
        "1. Numeric -> Integer, Float, Complex Number\n",
        "2. Dictionary\n",
        "3. Boolean\n",
        "4. Set\n",
        "5. Sequence Type -> Strings, List, Tuple"
      ],
      "metadata": {
        "id": "v4aI9rWkrKmM"
      }
    },
    {
      "cell_type": "code",
      "source": [
        "# Integer type example\n",
        "x = 210\n",
        "\n",
        "print(type(x))"
      ],
      "metadata": {
        "colab": {
          "base_uri": "https://localhost:8080/"
        },
        "id": "BZVfC55btjHe",
        "outputId": "bc9eae41-aa64-4429-f550-06c2eaf63478"
      },
      "execution_count": 5,
      "outputs": [
        {
          "output_type": "stream",
          "name": "stdout",
          "text": [
            "<class 'int'>\n"
          ]
        }
      ]
    },
    {
      "cell_type": "code",
      "source": [
        "# Float type example\n",
        "y = 2.30\n",
        "\n",
        "print(type(y))"
      ],
      "metadata": {
        "colab": {
          "base_uri": "https://localhost:8080/"
        },
        "id": "NAXkqizAvdF8",
        "outputId": "b18f7844-4ab7-497f-ad50-c9998a8a4f5f"
      },
      "execution_count": 6,
      "outputs": [
        {
          "output_type": "stream",
          "name": "stdout",
          "text": [
            "<class 'float'>\n"
          ]
        }
      ]
    },
    {
      "cell_type": "code",
      "source": [
        "# String type example\n",
        "z = 'word of the day'\n",
        "\n",
        "print(type(z))"
      ],
      "metadata": {
        "colab": {
          "base_uri": "https://localhost:8080/"
        },
        "id": "7Y52JvPEviP_",
        "outputId": "a3d341e5-4d79-483b-f9e7-18ccfccb505c"
      },
      "execution_count": 7,
      "outputs": [
        {
          "output_type": "stream",
          "name": "stdout",
          "text": [
            "<class 'str'>\n"
          ]
        }
      ]
    },
    {
      "cell_type": "code",
      "source": [
        "# List type example\n",
        "\n",
        "lemari = ['baju', 'celana', 'buku']\n",
        "\n",
        "print(lemari[0])\n",
        "print(lemari[1])\n",
        "print(lemari[2])"
      ],
      "metadata": {
        "colab": {
          "base_uri": "https://localhost:8080/"
        },
        "id": "FIMtR28avvnU",
        "outputId": "d9d79d8a-4a04-4d65-ea01-91a3582cd6ae"
      },
      "execution_count": 8,
      "outputs": [
        {
          "output_type": "stream",
          "name": "stdout",
          "text": [
            "baju\n",
            "celana\n",
            "buku\n"
          ]
        }
      ]
    },
    {
      "cell_type": "code",
      "source": [
        "# Indexing negative list\n",
        "\n",
        "print(lemari[-1])\n",
        "print(lemari[-2])\n",
        "print(lemari[-3])"
      ],
      "metadata": {
        "colab": {
          "base_uri": "https://localhost:8080/"
        },
        "id": "4SNKYIO1xFUT",
        "outputId": "76b51fca-aab2-46ac-dbba-519685232bb5"
      },
      "execution_count": 11,
      "outputs": [
        {
          "output_type": "stream",
          "name": "stdout",
          "text": [
            "buku\n",
            "celana\n",
            "baju\n"
          ]
        }
      ]
    },
    {
      "cell_type": "code",
      "source": [
        "# Dictionary type example\n",
        "\n",
        "mapping_ibukota = {\n",
        "    'Indonesia': 'Jakarta',\n",
        "    'Malaysia': 'Kuala Lumpur',\n",
        "    'Jepang' : 'Tokyo'\n",
        "}\n",
        "\n",
        "print(mapping_ibukota['Indonesia'])"
      ],
      "metadata": {
        "colab": {
          "base_uri": "https://localhost:8080/"
        },
        "id": "o00Q3aaFxQ_Z",
        "outputId": "ff3b71e9-2913-48e3-f7d9-1c2dbd3b33c2"
      },
      "execution_count": 13,
      "outputs": [
        {
          "output_type": "stream",
          "name": "stdout",
          "text": [
            "Jakarta\n"
          ]
        }
      ]
    },
    {
      "cell_type": "code",
      "source": [
        "# How to show keys on dictionary\n",
        "\n",
        "mapping_ibukota.keys()"
      ],
      "metadata": {
        "colab": {
          "base_uri": "https://localhost:8080/"
        },
        "id": "ZKJhqrPQ4OgZ",
        "outputId": "3c6f9b00-ef39-4c4a-8b6f-2c30d3c3a171"
      },
      "execution_count": 14,
      "outputs": [
        {
          "output_type": "execute_result",
          "data": {
            "text/plain": [
              "dict_keys(['Indonesia', 'Malaysia', 'Jepang'])"
            ]
          },
          "metadata": {},
          "execution_count": 14
        }
      ]
    },
    {
      "cell_type": "code",
      "source": [
        "# How to show values on dictionary\n",
        "\n",
        "mapping_ibukota.values()"
      ],
      "metadata": {
        "colab": {
          "base_uri": "https://localhost:8080/"
        },
        "id": "Ccead78S4jvo",
        "outputId": "063d67fd-5b2a-4f33-b491-d50dd3291690"
      },
      "execution_count": 15,
      "outputs": [
        {
          "output_type": "execute_result",
          "data": {
            "text/plain": [
              "dict_values(['Jakarta', 'Kuala Lumpur', 'Tokyo'])"
            ]
          },
          "metadata": {},
          "execution_count": 15
        }
      ]
    },
    {
      "cell_type": "code",
      "source": [
        "# Adding keys and value to dictionary\n",
        "\n",
        "mapping_ibukota['China'] = 'Beijing'\n",
        "\n",
        "print(mapping_ibukota)"
      ],
      "metadata": {
        "colab": {
          "base_uri": "https://localhost:8080/"
        },
        "id": "s6ONADAs4qwI",
        "outputId": "9d8fc9a9-cacc-48ac-d96a-6cf3521777d6"
      },
      "execution_count": 16,
      "outputs": [
        {
          "output_type": "stream",
          "name": "stdout",
          "text": [
            "{'Indonesia': 'Jakarta', 'Malaysia': 'Kuala Lumpur', 'Jepang': 'Tokyo', 'China': 'Beijing'}\n"
          ]
        }
      ]
    },
    {
      "cell_type": "markdown",
      "source": [],
      "metadata": {
        "id": "DlRSgv6H9WGO"
      }
    },
    {
      "cell_type": "markdown",
      "source": [
        "# KUIS\n",
        "\n",
        "Jawab : **D**"
      ],
      "metadata": {
        "id": "byBgtE419WlL"
      }
    },
    {
      "cell_type": "code",
      "source": [
        "# Tentukan hasil dari Python script di bawah ini jika di run\n",
        "\n",
        "x = ['Startup Campus', 1500, '2024', 2.5]\n",
        "\n",
        "print(type(x[-2]))"
      ],
      "metadata": {
        "colab": {
          "base_uri": "https://localhost:8080/"
        },
        "id": "--SDNR1l9YLy",
        "outputId": "2ab4701f-d69b-419c-f237-299c963a81f2"
      },
      "execution_count": 18,
      "outputs": [
        {
          "output_type": "stream",
          "name": "stdout",
          "text": [
            "<class 'str'>\n"
          ]
        }
      ]
    },
    {
      "cell_type": "markdown",
      "source": [
        "#4. Arithmetic Operators"
      ],
      "metadata": {
        "id": "GPH4qer-AZRK"
      }
    },
    {
      "cell_type": "code",
      "source": [
        "A = 100.3\n",
        "B = 50\n",
        "\n",
        "print(A + B)"
      ],
      "metadata": {
        "colab": {
          "base_uri": "https://localhost:8080/"
        },
        "id": "YAiOOLEyAcdT",
        "outputId": "adcc431c-d457-4647-ee46-c9121d2988d6"
      },
      "execution_count": 19,
      "outputs": [
        {
          "output_type": "stream",
          "name": "stdout",
          "text": [
            "150.3\n"
          ]
        }
      ]
    },
    {
      "cell_type": "code",
      "source": [
        "C = 25\n",
        "D = 5\n",
        "\n",
        "print(C/D)"
      ],
      "metadata": {
        "colab": {
          "base_uri": "https://localhost:8080/"
        },
        "id": "pPITOjZpAwmZ",
        "outputId": "9159c027-915e-4447-f3ea-2316f7f94d07"
      },
      "execution_count": 20,
      "outputs": [
        {
          "output_type": "stream",
          "name": "stdout",
          "text": [
            "5.0\n"
          ]
        }
      ]
    },
    {
      "cell_type": "code",
      "source": [
        "print(C * D)"
      ],
      "metadata": {
        "colab": {
          "base_uri": "https://localhost:8080/"
        },
        "id": "ZOR20NSdBIxV",
        "outputId": "8c337ce2-2081-4fa1-cd1d-8db61b951023"
      },
      "execution_count": 21,
      "outputs": [
        {
          "output_type": "stream",
          "name": "stdout",
          "text": [
            "125\n"
          ]
        }
      ]
    },
    {
      "cell_type": "code",
      "source": [
        "E = 30\n",
        "F = 4\n",
        "\n",
        "print(E % F)"
      ],
      "metadata": {
        "colab": {
          "base_uri": "https://localhost:8080/"
        },
        "id": "lliudc0TBL-9",
        "outputId": "733fffa2-4822-42bf-dd9b-d51a0586cd34"
      },
      "execution_count": 22,
      "outputs": [
        {
          "output_type": "stream",
          "name": "stdout",
          "text": [
            "2\n"
          ]
        }
      ]
    },
    {
      "cell_type": "code",
      "source": [
        "print(E // F)"
      ],
      "metadata": {
        "colab": {
          "base_uri": "https://localhost:8080/"
        },
        "id": "n-IfpzmxBZbs",
        "outputId": "6caf08ca-8660-4e89-82d1-e5e60634d570"
      },
      "execution_count": 23,
      "outputs": [
        {
          "output_type": "stream",
          "name": "stdout",
          "text": [
            "7\n"
          ]
        }
      ]
    },
    {
      "cell_type": "markdown",
      "source": [
        "#5. Conditional"
      ],
      "metadata": {
        "id": "Y5nWWRGxCX1I"
      }
    },
    {
      "cell_type": "code",
      "source": [
        "# Ekivalen\n",
        "print(20 == 40)"
      ],
      "metadata": {
        "colab": {
          "base_uri": "https://localhost:8080/"
        },
        "id": "zTCQQ7bJBr8N",
        "outputId": "19aa27d7-3f88-4ddd-8f7b-a5ae7f7cd00d"
      },
      "execution_count": 24,
      "outputs": [
        {
          "output_type": "stream",
          "name": "stdout",
          "text": [
            "False\n"
          ]
        }
      ]
    },
    {
      "cell_type": "code",
      "source": [
        "print(100 == 100)"
      ],
      "metadata": {
        "colab": {
          "base_uri": "https://localhost:8080/"
        },
        "id": "UOZpCCrSCdZz",
        "outputId": "45c6afc7-0c26-4ddc-cbfd-568d27333862"
      },
      "execution_count": 25,
      "outputs": [
        {
          "output_type": "stream",
          "name": "stdout",
          "text": [
            "True\n"
          ]
        }
      ]
    },
    {
      "cell_type": "code",
      "source": [
        "print('Sapi' != 'Babi')"
      ],
      "metadata": {
        "colab": {
          "base_uri": "https://localhost:8080/"
        },
        "id": "OAsFtLJjCkId",
        "outputId": "ac3960fd-0bc7-4aff-9cce-221971e4e13e"
      },
      "execution_count": 26,
      "outputs": [
        {
          "output_type": "stream",
          "name": "stdout",
          "text": [
            "True\n"
          ]
        }
      ]
    },
    {
      "cell_type": "code",
      "source": [
        "print(2 <= 5)"
      ],
      "metadata": {
        "colab": {
          "base_uri": "https://localhost:8080/"
        },
        "id": "EbhkBcnSC0yq",
        "outputId": "50927efb-4218-4cb1-b15a-495d82cafdfd"
      },
      "execution_count": 27,
      "outputs": [
        {
          "output_type": "stream",
          "name": "stdout",
          "text": [
            "True\n"
          ]
        }
      ]
    },
    {
      "cell_type": "code",
      "source": [
        "print(1000 < 500)"
      ],
      "metadata": {
        "colab": {
          "base_uri": "https://localhost:8080/"
        },
        "id": "h_77LiXRC3XW",
        "outputId": "c78b6c1a-2e33-47e2-cd2b-82f27973028e"
      },
      "execution_count": 28,
      "outputs": [
        {
          "output_type": "stream",
          "name": "stdout",
          "text": [
            "False\n"
          ]
        }
      ]
    },
    {
      "cell_type": "code",
      "source": [
        "print(400 >= 400)"
      ],
      "metadata": {
        "colab": {
          "base_uri": "https://localhost:8080/"
        },
        "id": "EIoG6Bk0C6t-",
        "outputId": "f0f2e11f-70e6-4cfa-8bb6-39868a55a92e"
      },
      "execution_count": 29,
      "outputs": [
        {
          "output_type": "stream",
          "name": "stdout",
          "text": [
            "True\n"
          ]
        }
      ]
    },
    {
      "cell_type": "code",
      "source": [
        "# AND & OR\n",
        "\n",
        "print(True & True)\n",
        "print(True & False)\n",
        "print(False & True)\n",
        "print(False & False)"
      ],
      "metadata": {
        "colab": {
          "base_uri": "https://localhost:8080/"
        },
        "id": "sNp8OFepDBxz",
        "outputId": "7e73ec72-f540-4621-cce2-fdab11fbf8e8"
      },
      "execution_count": 30,
      "outputs": [
        {
          "output_type": "stream",
          "name": "stdout",
          "text": [
            "True\n",
            "False\n",
            "False\n",
            "False\n"
          ]
        }
      ]
    },
    {
      "cell_type": "code",
      "source": [
        "print(True | True)\n",
        "print(True | False)\n",
        "print(False | True)\n",
        "print(False | False)"
      ],
      "metadata": {
        "colab": {
          "base_uri": "https://localhost:8080/"
        },
        "id": "qVqAr0qKEL33",
        "outputId": "41573aa9-cba9-4bac-bf5a-15f6c01af123"
      },
      "execution_count": 32,
      "outputs": [
        {
          "output_type": "stream",
          "name": "stdout",
          "text": [
            "True\n",
            "True\n",
            "True\n",
            "False\n"
          ]
        }
      ]
    },
    {
      "cell_type": "code",
      "source": [
        "print((1006 != 1007) & (10 < 20))"
      ],
      "metadata": {
        "colab": {
          "base_uri": "https://localhost:8080/"
        },
        "id": "nKA5AFwxESkG",
        "outputId": "8ccc10ba-5e4b-4635-fdd3-e9bcbc6f60b1"
      },
      "execution_count": 33,
      "outputs": [
        {
          "output_type": "stream",
          "name": "stdout",
          "text": [
            "True\n"
          ]
        }
      ]
    },
    {
      "cell_type": "markdown",
      "source": [
        "#6. Conditional IF-ELSE"
      ],
      "metadata": {
        "id": "TGiKjDKcE3bF"
      }
    },
    {
      "cell_type": "code",
      "source": [
        "a = 5\n",
        "b = 100\n",
        "if b > a:\n",
        "    print('b lebih besar dari a')"
      ],
      "metadata": {
        "colab": {
          "base_uri": "https://localhost:8080/"
        },
        "id": "9lndir52Ec8T",
        "outputId": "f455fb96-ea1c-4a24-e065-d4f3d2de4c3f"
      },
      "execution_count": 34,
      "outputs": [
        {
          "output_type": "stream",
          "name": "stdout",
          "text": [
            "b lebih besar dari a\n"
          ]
        }
      ]
    },
    {
      "cell_type": "code",
      "source": [
        "c = 90\n",
        "d = 50\n",
        "\n",
        "if d > c:\n",
        "  print(\"d lebih besar dari c\")\n",
        "elif c == d:\n",
        "  print(\"c sama dengan d\")\n",
        "else:\n",
        "  print(\"c lebih besar dari d\")"
      ],
      "metadata": {
        "colab": {
          "base_uri": "https://localhost:8080/"
        },
        "id": "L7Y1A8-uE_ux",
        "outputId": "5c3f5b4c-1225-4f53-e07d-a85090cfba09"
      },
      "execution_count": 3,
      "outputs": [
        {
          "output_type": "stream",
          "name": "stdout",
          "text": [
            "c lebih besar dari d\n"
          ]
        }
      ]
    },
    {
      "cell_type": "code",
      "source": [
        "a = 100\n",
        "\n",
        "if a == 0:\n",
        "  print('Bilangan nol')\n",
        "elif a % 2 == 0:\n",
        "  print('Bilangan genap')\n",
        "elif a % 2 == 1:\n",
        "  print('Bilangan ganjil')\n",
        "else:\n",
        "  print('Buka bilangan bulat')"
      ],
      "metadata": {
        "colab": {
          "base_uri": "https://localhost:8080/"
        },
        "id": "BxQ6HijK4D0e",
        "outputId": "783702c8-55fb-49d4-e49a-2a8971a0b9d1"
      },
      "execution_count": 4,
      "outputs": [
        {
          "output_type": "stream",
          "name": "stdout",
          "text": [
            "Bilangan genap\n"
          ]
        }
      ]
    },
    {
      "cell_type": "markdown",
      "source": [
        "#KUIS\n",
        "\n",
        "Jawab : **A**"
      ],
      "metadata": {
        "id": "lsko9xhU5j2J"
      }
    },
    {
      "cell_type": "code",
      "source": [
        "# Tentukan hasil dari Python script di bawah ini jika dijalankan\n",
        "\n",
        "n = 2000\n",
        "\n",
        "if n % 2 == 0 and n % 4 == 0:\n",
        "  print('Yey')\n",
        "elif n / 2 == 1000:\n",
        "  print('Horeee')\n",
        "else:\n",
        "  print('Mager')"
      ],
      "metadata": {
        "colab": {
          "base_uri": "https://localhost:8080/"
        },
        "id": "eKGDAl6h5nQA",
        "outputId": "4106aa94-9799-4bd2-eb10-f3dcec44992a"
      },
      "execution_count": 5,
      "outputs": [
        {
          "output_type": "stream",
          "name": "stdout",
          "text": [
            "Yey\n"
          ]
        }
      ]
    },
    {
      "cell_type": "markdown",
      "source": [],
      "metadata": {
        "id": "Ek76--Rn6Z47"
      }
    },
    {
      "cell_type": "markdown",
      "source": [
        "#6. Initial and Loop - For"
      ],
      "metadata": {
        "id": "71Ery1OP6aRC"
      }
    },
    {
      "cell_type": "code",
      "source": [
        "W = [1, 2, 3, 4, 5]\n",
        "total_init = 0\n",
        "\n",
        "for x in W:\n",
        "  print(total_init, total_init + x)\n",
        "  total_init = total_init + x\n",
        "\n",
        "print(total_init)"
      ],
      "metadata": {
        "colab": {
          "base_uri": "https://localhost:8080/"
        },
        "id": "nzPaj0FZ6i_R",
        "outputId": "39d39246-f578-4ab9-cbe5-e1c50ddabf21"
      },
      "execution_count": 8,
      "outputs": [
        {
          "output_type": "stream",
          "name": "stdout",
          "text": [
            "0 1\n",
            "1 3\n",
            "3 6\n",
            "6 10\n",
            "10 15\n",
            "15\n"
          ]
        }
      ]
    },
    {
      "cell_type": "code",
      "source": [
        "W = [1, 2, 3, 4, 5]\n",
        "total_init = 0\n",
        "\n",
        "for x in W:\n",
        "  total_init += x\n",
        "\n",
        "print(total_init)"
      ],
      "metadata": {
        "colab": {
          "base_uri": "https://localhost:8080/"
        },
        "id": "_s3wOKcu7_rG",
        "outputId": "778240d4-ff1d-46f6-9221-8c80598ef48d"
      },
      "execution_count": 9,
      "outputs": [
        {
          "output_type": "stream",
          "name": "stdout",
          "text": [
            "15\n"
          ]
        }
      ]
    },
    {
      "cell_type": "code",
      "source": [
        "for i in range(1, 10, 2):\n",
        "  print(i)"
      ],
      "metadata": {
        "colab": {
          "base_uri": "https://localhost:8080/"
        },
        "id": "uGByEPXw8Ng1",
        "outputId": "df44d316-ed3f-4193-d74f-5078318f1e6b"
      },
      "execution_count": 10,
      "outputs": [
        {
          "output_type": "stream",
          "name": "stdout",
          "text": [
            "1\n",
            "3\n",
            "5\n",
            "7\n",
            "9\n"
          ]
        }
      ]
    },
    {
      "cell_type": "markdown",
      "source": [
        "#7. Initial and Loop - While"
      ],
      "metadata": {
        "id": "aZA3qysvKOKG"
      }
    },
    {
      "cell_type": "code",
      "source": [
        "# While Loop\n",
        "\n",
        "count = 0\n",
        "while(count < 3):\n",
        "  count += 1\n",
        "  print('Hello Geek')"
      ],
      "metadata": {
        "colab": {
          "base_uri": "https://localhost:8080/"
        },
        "id": "7T0OVurvKWJf",
        "outputId": "68942b86-8050-4726-877c-9d9219ccecf2"
      },
      "execution_count": 11,
      "outputs": [
        {
          "output_type": "stream",
          "name": "stdout",
          "text": [
            "Hello Geek\n",
            "Hello Geek\n",
            "Hello Geek\n"
          ]
        }
      ]
    },
    {
      "cell_type": "markdown",
      "source": [
        "#KUIS\n",
        "\n",
        "Jawab : **C**"
      ],
      "metadata": {
        "id": "zkWjoziPMRdK"
      }
    },
    {
      "cell_type": "code",
      "source": [
        "# Tentukan hasil dari Python script di bawah ini ini jika dijalankan\n",
        "\n",
        "num_1 = 1\n",
        "num_2 = 1\n",
        "\n",
        "for i in range(10):\n",
        "  num = num_2 + num_1\n",
        "  num_2, num_1 = num, num_2\n",
        "\n",
        "print(num)"
      ],
      "metadata": {
        "colab": {
          "base_uri": "https://localhost:8080/"
        },
        "id": "Zu2mWZRnMUHX",
        "outputId": "f358763b-e3b1-4d43-fe93-4139840b9c8b"
      },
      "execution_count": 13,
      "outputs": [
        {
          "output_type": "stream",
          "name": "stdout",
          "text": [
            "144\n"
          ]
        }
      ]
    },
    {
      "cell_type": "code",
      "source": [],
      "metadata": {
        "id": "p9_ZvoTjMpSk"
      },
      "execution_count": null,
      "outputs": []
    }
  ]
}